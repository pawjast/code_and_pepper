{
 "cells": [
  {
   "attachments": {},
   "cell_type": "markdown",
   "metadata": {},
   "source": [
    "# Horizontal bar chart with lines\n",
    "\n",
    "I was trying to recreate the plot from the tweet below:\n",
    "\n",
    "![tweet](../media/tweet_levi_bar_chart_challenge.jpg)\n",
    "\n",
    "Source:\n",
    "[Twitter](https://twitter.com/levikul09/status/1639209198130192385?s=20)"
   ]
  },
  {
   "attachments": {},
   "cell_type": "markdown",
   "metadata": {},
   "source": [
    "## Imports"
   ]
  },
  {
   "cell_type": "code",
   "execution_count": 1,
   "metadata": {},
   "outputs": [],
   "source": [
    "import matplotlib as mpl\n",
    "import matplotlib.pyplot as plt\n",
    "from matplotlib.legend_handler import HandlerTuple\n",
    "import pandas as pd\n",
    "import numpy as np"
   ]
  },
  {
   "attachments": {},
   "cell_type": "markdown",
   "metadata": {},
   "source": [
    "## Data"
   ]
  },
  {
   "cell_type": "code",
   "execution_count": 2,
   "metadata": {},
   "outputs": [],
   "source": [
    "df = pd.DataFrame(\n",
    "    {\n",
    "        \"Physical therapy\": [.478, .236, .217, .051, .018],\n",
    "        \"No physical therapy\": [.417, .265, .226, .062, .03]\n",
    "    },\n",
    "    index = [\"Much better\", \"Somewhat better\", \"About the same\", \"Somewhat worse\", \"Much worse\"]\n",
    ")"
   ]
  },
  {
   "cell_type": "code",
   "execution_count": 3,
   "metadata": {},
   "outputs": [
    {
     "data": {
      "text/html": [
       "<div>\n",
       "<style scoped>\n",
       "    .dataframe tbody tr th:only-of-type {\n",
       "        vertical-align: middle;\n",
       "    }\n",
       "\n",
       "    .dataframe tbody tr th {\n",
       "        vertical-align: top;\n",
       "    }\n",
       "\n",
       "    .dataframe thead th {\n",
       "        text-align: right;\n",
       "    }\n",
       "</style>\n",
       "<table border=\"1\" class=\"dataframe\">\n",
       "  <thead>\n",
       "    <tr style=\"text-align: right;\">\n",
       "      <th></th>\n",
       "      <th>Physical therapy</th>\n",
       "      <th>No physical therapy</th>\n",
       "    </tr>\n",
       "  </thead>\n",
       "  <tbody>\n",
       "    <tr>\n",
       "      <th>Much better</th>\n",
       "      <td>0.478</td>\n",
       "      <td>0.417</td>\n",
       "    </tr>\n",
       "    <tr>\n",
       "      <th>Somewhat better</th>\n",
       "      <td>0.236</td>\n",
       "      <td>0.265</td>\n",
       "    </tr>\n",
       "    <tr>\n",
       "      <th>About the same</th>\n",
       "      <td>0.217</td>\n",
       "      <td>0.226</td>\n",
       "    </tr>\n",
       "    <tr>\n",
       "      <th>Somewhat worse</th>\n",
       "      <td>0.051</td>\n",
       "      <td>0.062</td>\n",
       "    </tr>\n",
       "    <tr>\n",
       "      <th>Much worse</th>\n",
       "      <td>0.018</td>\n",
       "      <td>0.030</td>\n",
       "    </tr>\n",
       "  </tbody>\n",
       "</table>\n",
       "</div>"
      ],
      "text/plain": [
       "                 Physical therapy  No physical therapy\n",
       "Much better                 0.478                0.417\n",
       "Somewhat better             0.236                0.265\n",
       "About the same              0.217                0.226\n",
       "Somewhat worse              0.051                0.062\n",
       "Much worse                  0.018                0.030"
      ]
     },
     "execution_count": 3,
     "metadata": {},
     "output_type": "execute_result"
    }
   ],
   "source": [
    "# display data\n",
    "df"
   ]
  },
  {
   "cell_type": "code",
   "execution_count": 4,
   "metadata": {},
   "outputs": [
    {
     "data": {
      "text/plain": [
       "Physical therapy       1.0\n",
       "No physical therapy    1.0\n",
       "dtype: float64"
      ]
     },
     "execution_count": 4,
     "metadata": {},
     "output_type": "execute_result"
    }
   ],
   "source": [
    "# Check if data adds up to 1 or 100%\n",
    "df.sum()"
   ]
  },
  {
   "attachments": {},
   "cell_type": "markdown",
   "metadata": {},
   "source": [
    "## Plot"
   ]
  },
  {
   "attachments": {},
   "cell_type": "markdown",
   "metadata": {},
   "source": [
    "### Specify colours for the bars"
   ]
  },
  {
   "cell_type": "code",
   "execution_count": 5,
   "metadata": {},
   "outputs": [],
   "source": [
    "nr_of_colours = len(df)"
   ]
  },
  {
   "cell_type": "code",
   "execution_count": 6,
   "metadata": {},
   "outputs": [
    {
     "name": "stdout",
     "output_type": "stream",
     "text": [
      "[[0.   0.   1.   1.  ]\n",
      " [0.25 0.25 1.   1.  ]\n",
      " [0.5  0.5  1.   1.  ]\n",
      " [0.75 0.75 1.   1.  ]\n",
      " [1.   1.   1.   1.  ]]\n"
     ]
    }
   ],
   "source": [
    "# blues [R, G, B, transparency]\n",
    "blues = np.ones([len(df), 4])\n",
    "blues[:, 0] = np.linspace(0, 1, nr_of_colours)\n",
    "blues[:, 1] = np.linspace(0, 1, nr_of_colours)\n",
    "blues[:, 2] = 1\n",
    "blues[:, 3] = 1\n",
    "\n",
    "print(blues)"
   ]
  },
  {
   "cell_type": "code",
   "execution_count": 7,
   "metadata": {},
   "outputs": [
    {
     "name": "stdout",
     "output_type": "stream",
     "text": [
      "[[0.   0.   1.   1.  ]\n",
      " [0.25 0.25 1.   1.  ]\n",
      " [0.5  0.5  1.   1.  ]\n",
      " [0.75 0.75 1.   1.  ]\n",
      " [1.   1.   1.   1.  ]]\n"
     ]
    }
   ],
   "source": [
    "# reds [R, G, B, transparency]\n",
    "reds = np.ones([len(df), 4])\n",
    "reds[:, 0] = 1\n",
    "reds[:, 1] = np.linspace(0, 1, nr_of_colours)\n",
    "reds[:, 2] = np.linspace(0, 1, nr_of_colours)\n",
    "reds[:, 3] = 1\n",
    "\n",
    "print(blues)"
   ]
  },
  {
   "attachments": {},
   "cell_type": "markdown",
   "metadata": {},
   "source": [
    "### Create a plot"
   ]
  },
  {
   "cell_type": "code",
   "execution_count": 8,
   "metadata": {},
   "outputs": [
    {
     "data": {
      "image/png": "[encoded data removed]",
      "text/plain": [
       "<Figure size 1152x648 with 2 Axes>"
      ]
     },
     "metadata": {},
     "output_type": "display_data"
    }
   ],
   "source": [
    "fig, ax = plt.subplots(\n",
    "    figsize=(16, 9),\n",
    "    facecolor=\"ghostwhite\"\n",
    ")\n",
    "fig.suptitle(\n",
    "    \"Distribution of Health Recovery at 1 Year Follow-Up\",\n",
    "    fontsize=20\n",
    ")\n",
    "\n",
    "ax.set_ylim(-0.5, 1.5)\n",
    "\n",
    "bottom = np.zeros(df.shape[1])\n",
    "bar_width_val = 0.8\n",
    "line_width_val = 1.5\n",
    "\n",
    "\n",
    "legend_label_data = [\n",
    "    [],  # handles\n",
    "    []  # labels\n",
    "]\n",
    "\n",
    "for (idx, row), r,b in zip(df.iterrows(),reds, blues):\n",
    "    # add bars\n",
    "    ax.barh(\n",
    "        y= df.columns,\n",
    "        width=row,\n",
    "        left=bottom,\n",
    "        color=[r, b],\n",
    "        edgecolor=\"black\",\n",
    "        linewidth=line_width_val,\n",
    "        height = bar_width_val\n",
    "    )\n",
    "    bottom += row.values\n",
    "\n",
    "    # plot dashed lines connecting bars for all except top bar in a stack\n",
    "    if all(bottom < 1):\n",
    "        ax.plot(\n",
    "            bottom,\n",
    "            [0 + 0.5*bar_width_val, 1 - 0.5*bar_width_val],\n",
    "            linestyle=\"--\",\n",
    "            color=\"black\",\n",
    "            linewidth=line_width_val\n",
    "        )\n",
    "\n",
    "    # add \"%\"\" labels to the bars & lines joining top/bottom tick marks with bars\n",
    "    for x, y, val in [(x, y, val) for x, y, val in zip(bottom, [0, 1], row)]:\n",
    "        # Labels\n",
    "        if x < 1:\n",
    "            text_location_x = x-0.5*val\n",
    "            text_align = \"center\"\n",
    "            col = \"w\"\n",
    "        else:\n",
    "            text_location_x = x\n",
    "            text_align = \"left\"\n",
    "            col = \"k\"\n",
    "\n",
    "        ax.text(\n",
    "            text_location_x, y, s=f\"{val: .1%}\",\n",
    "            fontsize=12,\n",
    "            color=col,\n",
    "            ha=text_align,\n",
    "            va=\"center\"\n",
    "        )\n",
    "\n",
    "        # Lines\n",
    "        if all(bottom < 1):  # for all except top bar in a stack\n",
    "            if y == 0:\n",
    "                min_val = ax.get_ylim()[0]\n",
    "                max_val =  - 0.5*bar_width_val\n",
    "            else:\n",
    "                min_val = y + 0.5*bar_width_val,\n",
    "                max_val = ax.get_ylim()[1],\n",
    "\n",
    "            ax.vlines(\n",
    "                x=x,\n",
    "                ymin=min_val,\n",
    "                ymax=max_val,\n",
    "                color=\"k\",\n",
    "                linewidth=line_width_val\n",
    "            )\n",
    "\n",
    "    # create label patches for the legend\n",
    "    legend_label_data[0].append(\n",
    "        (\n",
    "            mpl.patches.Patch(facecolor=r, edgecolor=\"k\"), \n",
    "            mpl.patches.Patch(facecolor=b, edgecolor=\"k\")\n",
    "        )\n",
    "    ) \n",
    "    legend_label_data[1].append(idx)\n",
    "\n",
    "# add legend\n",
    "ax.legend(\n",
    "    legend_label_data[0],\n",
    "    legend_label_data[1], \n",
    "    handler_map={tuple: HandlerTuple(ndivide=None)},\n",
    "    loc=\"center\",\n",
    "    bbox_to_anchor=(1.1, .5),\n",
    "    fontsize=14,\n",
    "    frameon=False\n",
    ")\n",
    "\n",
    "# Tweak bottom axis\n",
    "ax.set_xticks(\n",
    "    df[\"Physical therapy\"].cumsum().values[:-1],\n",
    "    [f\"{x: .1%}\" for x in df[\"Physical therapy\"].cumsum().values[:-1]],\n",
    "    color=\"red\",\n",
    "    fontsize=12\n",
    ")\n",
    "# Uncomment this for spines and comment out the lines 133-135\n",
    "# ax.spines[\"bottom\"].set_color(\"red\")\n",
    "# ax.spines[\"top\"].set_visible(False)\n",
    "\n",
    "# Tweak top axis\n",
    "ax2 = ax.twiny()\n",
    "ax2.set_xticks(\n",
    "    df[\"No physical therapy\"].cumsum().values[:-1],\n",
    "    [f\"{x: .1%}\" for x in df[\"No physical therapy\"].cumsum().values[:-1]],\n",
    "    color=\"blue\",\n",
    "    fontsize=11\n",
    ")\n",
    "# Uncomment this for spines and comment out the lines 133-135\n",
    "# ax2.spines[\"top\"].set_color(\"blue\")\n",
    "# ax2.spines[\"bottom\"].set_visible(False)\n",
    "\n",
    "for a in [ax, ax2]:\n",
    "    a.set_xlim(0, 1.05)\n",
    "    a.tick_params(\n",
    "        axis=\"x\",\n",
    "        color=\"k\",\n",
    "        width=line_width_val\n",
    "    )\n",
    "    # hide spines\n",
    "    a.spines[\"right\"].set_visible(False)\n",
    "    a.spines[\"top\"].set_visible(False)\n",
    "    a.spines[\"bottom\"].set_visible(False)\n",
    "\n",
    "ax.tick_params(\n",
    "    axis=\"y\",\n",
    "    labelsize=14\n",
    ")\n",
    "\n",
    "ax.set_xlabel(\"Physical therapy\", fontsize=15, color=\"r\", loc=\"left\")\n",
    "ax2.set_xlabel(\"No physical therapy\", fontsize=15, color=\"b\", loc=\"left\")\n",
    "ax.set_yticklabels([])\n",
    "ax.set_yticks([]);\n",
    "\n",
    "# Update spines thickness\n",
    "for label in ['top','bottom','left','right']:\n",
    "    ax.spines[label].set_linewidth(line_width_val)\n",
    "    ax2.spines[label].set_linewidth(line_width_val)"
   ]
  },
  {
   "attachments": {},
   "cell_type": "markdown",
   "metadata": {},
   "source": [
    "## Further improvements\n",
    "\n",
    "* use colours from one of the Matplotlib's colour pallettes"
   ]
  }
 ],
 "metadata": {
  "kernelspec": {
   "display_name": "Python 3",
   "language": "python",
   "name": "python3"
  },
  "language_info": {
   "codemirror_mode": {
    "name": "ipython",
    "version": 3
   },
   "file_extension": ".py",
   "mimetype": "text/x-python",
   "name": "python",
   "nbconvert_exporter": "python",
   "pygments_lexer": "ipython3",
   "version": "3.10.2"
  },
  "orig_nbformat": 4
 },
 "nbformat": 4,
 "nbformat_minor": 2
}
