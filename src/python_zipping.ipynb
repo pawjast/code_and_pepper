{
 "cells": [
  {
   "cell_type": "markdown",
   "metadata": {},
   "source": [
    "# Using zipping and long zipping"
   ]
  },
  {
   "cell_type": "code",
   "execution_count": 1,
   "metadata": {},
   "outputs": [
    {
     "name": "stdout",
     "output_type": "stream",
     "text": [
      "['a', 'b', 'c', 'd'] - len: 4\n",
      "[0, 1, 2, 3, 4] - len: 5\n"
     ]
    }
   ],
   "source": [
    "letters = list(\"abcd\")\n",
    "numbers = list(range(5))\n",
    "\n",
    "\n",
    "print(f\"{letters} - len: {len(letters)}\")\n",
    "print(f\"{numbers} - len: {len(numbers)}\")"
   ]
  },
  {
   "cell_type": "markdown",
   "metadata": {},
   "source": [
    "## Regular zip"
   ]
  },
  {
   "cell_type": "code",
   "execution_count": 2,
   "metadata": {},
   "outputs": [
    {
     "name": "stdout",
     "output_type": "stream",
     "text": [
      "[('a', 0), ('b', 1), ('c', 2), ('d', 3)] - len: 4\n"
     ]
    }
   ],
   "source": [
    "zipped = list(zip(letters, numbers))\n",
    "\n",
    "print(f\"{zipped} - len: {len(zipped)}\")"
   ]
  },
  {
   "cell_type": "markdown",
   "metadata": {},
   "source": [
    "## Long zip"
   ]
  },
  {
   "cell_type": "code",
   "execution_count": 3,
   "metadata": {},
   "outputs": [],
   "source": [
    "from itertools import zip_longest"
   ]
  },
  {
   "cell_type": "code",
   "execution_count": 4,
   "metadata": {},
   "outputs": [
    {
     "name": "stdout",
     "output_type": "stream",
     "text": [
      "[('a', 0), ('b', 1), ('c', 2), ('d', 3), (None, 4)] - len: 5\n"
     ]
    }
   ],
   "source": [
    "zipped_2 = list(zip_longest(letters, numbers))\n",
    "\n",
    "print(f\"{zipped_2} - len: {len(zipped_2)}\")"
   ]
  },
  {
   "cell_type": "code",
   "execution_count": 5,
   "metadata": {},
   "outputs": [
    {
     "name": "stdout",
     "output_type": "stream",
     "text": [
      "[('a', 0), ('b', 1), ('c', 2), ('d', 3), ('...', 4)] - len: 5\n"
     ]
    }
   ],
   "source": [
    "zipped_3 = list(zip_longest(letters, numbers, fillvalue=\"...\"))\n",
    "\n",
    "print(f\"{zipped_3} - len: {len(zipped_3)}\")"
   ]
  },
  {
   "cell_type": "code",
   "execution_count": null,
   "metadata": {},
   "outputs": [],
   "source": []
  },
  {
   "cell_type": "code",
   "execution_count": null,
   "metadata": {},
   "outputs": [],
   "source": []
  }
 ],
 "metadata": {
  "kernelspec": {
   "display_name": "venv_medium",
   "language": "python",
   "name": "python3"
  },
  "language_info": {
   "codemirror_mode": {
    "name": "ipython",
    "version": 3
   },
   "file_extension": ".py",
   "mimetype": "text/x-python",
   "name": "python",
   "nbconvert_exporter": "python",
   "pygments_lexer": "ipython3",
   "version": "3.12.4"
  }
 },
 "nbformat": 4,
 "nbformat_minor": 2
}
