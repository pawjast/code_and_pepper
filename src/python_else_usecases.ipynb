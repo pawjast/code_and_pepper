{
 "cells": [
  {
   "attachments": {},
   "cell_type": "markdown",
   "metadata": {},
   "source": [
    "# All use cases for using `else` in Python"
   ]
  },
  {
   "attachments": {},
   "cell_type": "markdown",
   "metadata": {},
   "source": [
    "## 1. `if else`"
   ]
  },
  {
   "cell_type": "code",
   "execution_count": 37,
   "metadata": {},
   "outputs": [
    {
     "name": "stdout",
     "output_type": "stream",
     "text": [
      "List IS empty\n"
     ]
    }
   ],
   "source": [
    "my_list = []\n",
    "\n",
    "if my_list:\n",
    "    print(\"List is NOT empty\")\n",
    "else:\n",
    "    print(\"List IS empty\")"
   ]
  },
  {
   "cell_type": "markdown",
   "metadata": {},
   "source": [
    "## 2. `for ... else`\n",
    "\n",
    "`else` in this case only executes if the `for` loop ends up normally, without a break."
   ]
  },
  {
   "cell_type": "markdown",
   "metadata": {},
   "source": [
    "### Execute `else`"
   ]
  },
  {
   "cell_type": "code",
   "execution_count": 38,
   "metadata": {},
   "outputs": [
    {
     "name": "stdout",
     "output_type": "stream",
     "text": [
      "Checking: jim\n",
      "Checking: bob\n",
      "Checking: kim\n",
      "\n",
      "No name containing letter `g` found.\n"
     ]
    }
   ],
   "source": [
    "# Find the first name that contains letter `g`\n",
    "\n",
    "my_list = [\n",
    "    \"jim\",\n",
    "    \"bob\",\n",
    "    \"kim\"\n",
    "]\n",
    "for name in my_list:\n",
    "    print(f\"Checking: {name}\")\n",
    "    if \"g\" in name:\n",
    "        print(f\"\\n`{name}` contains: 'g'\")\n",
    "        break\n",
    "else:\n",
    "    print(\"\\nNo name containing letter `g` found.\")\n"
   ]
  },
  {
   "cell_type": "markdown",
   "metadata": {},
   "source": [
    "### Don't execute `else`"
   ]
  },
  {
   "cell_type": "code",
   "execution_count": 39,
   "metadata": {},
   "outputs": [
    {
     "name": "stdout",
     "output_type": "stream",
     "text": [
      "Checking: jim\n",
      "Checking: bob\n",
      "Checking: greg\n",
      "\n",
      "`greg` contains: 'g'\n"
     ]
    }
   ],
   "source": [
    "# Find the first name that contains letter `g`\n",
    "\n",
    "my_list = [\n",
    "    \"jim\",\n",
    "    \"bob\",\n",
    "    \"greg\",\n",
    "    \"kim\",\n",
    "    \"george\"\n",
    "]\n",
    "for name in my_list:\n",
    "    print(f\"Checking: {name}\")\n",
    "    if \"g\" in name:\n",
    "        print(f\"\\n`{name}` contains: 'g'\")\n",
    "        break\n",
    "else:\n",
    "    print(\"\\nNo name containing letter `g` found.\")"
   ]
  },
  {
   "cell_type": "markdown",
   "metadata": {},
   "source": [
    "## 3. `while ... else`\n",
    "\n",
    "Works exactly as the `for ... else` loop above"
   ]
  },
  {
   "cell_type": "markdown",
   "metadata": {},
   "source": [
    "### Execute `else`"
   ]
  },
  {
   "cell_type": "code",
   "execution_count": 40,
   "metadata": {},
   "outputs": [
    {
     "name": "stdout",
     "output_type": "stream",
     "text": [
      "Checking power of 2 for: 0 : 0\n",
      "Checking power of 2 for: 1 : 1\n",
      "Checking power of 2 for: 2 : 4\n",
      "Checking power of 2 for: 3 : 9\n",
      "Checking power of 2 for: 4 : 16\n",
      "\n",
      "I haven't found any number that belongs to [11, 12, 13].\n"
     ]
    }
   ],
   "source": [
    "# Check if power of 2 of a number is in a `list` of fixed numbers\n",
    "my_list = [11, 12, 13]\n",
    "\n",
    "number = 0\n",
    "while number < 5:\n",
    "    print(f\"Checking power of 2 for: {number} : {number**2}\")\n",
    "    if set(my_list).intersection([number**2]):\n",
    "        print(f\"\\n`{number}` to the power of 2 is in {my_list}\")\n",
    "        break\n",
    "\n",
    "    number += 1\n",
    "else:\n",
    "    print(f\"\\nI haven't found any number that belongs to {my_list}.\")"
   ]
  },
  {
   "cell_type": "markdown",
   "metadata": {},
   "source": [
    "### Don't execute `else`"
   ]
  },
  {
   "cell_type": "code",
   "execution_count": 41,
   "metadata": {},
   "outputs": [
    {
     "name": "stdout",
     "output_type": "stream",
     "text": [
      "Checking power of 2 for: 0 : 0\n",
      "Checking power of 2 for: 1 : 1\n",
      "Checking power of 2 for: 2 : 4\n",
      "Checking power of 2 for: 3 : 9\n",
      "\n",
      "`3` to the power of 2 is in [9, 11, 12, 13]\n"
     ]
    }
   ],
   "source": [
    "# Check if power of 2 of a number is in a `list` of fixed numbers\n",
    "my_list = [9, 11, 12, 13]\n",
    "\n",
    "number = 0\n",
    "while number < 5:\n",
    "    print(f\"Checking power of 2 for: {number} : {number**2}\")\n",
    "    if set(my_list).intersection([number**2]):\n",
    "        print(f\"\\n`{number}` to the power of 2 is in {my_list}\")\n",
    "        break\n",
    "\n",
    "    number += 1\n",
    "else:\n",
    "    print(f\"\\nI haven't found any number that belongs to {my_list}.\")"
   ]
  },
  {
   "cell_type": "markdown",
   "metadata": {},
   "source": [
    "## 4. `try ... except ... else ... finally`\n",
    "\n",
    "`isnumeric()` checks if ALL characters in a string are numeric."
   ]
  },
  {
   "cell_type": "code",
   "execution_count": 49,
   "metadata": {},
   "outputs": [
    {
     "data": {
      "text/plain": [
       "False"
      ]
     },
     "execution_count": 49,
     "metadata": {},
     "output_type": "execute_result"
    }
   ],
   "source": [
    "\"-1\".isnumeric()"
   ]
  },
  {
   "cell_type": "code",
   "execution_count": 50,
   "metadata": {},
   "outputs": [
    {
     "data": {
      "text/plain": [
       "True"
      ]
     },
     "execution_count": 50,
     "metadata": {},
     "output_type": "execute_result"
    }
   ],
   "source": [
    "\"1\".isnumeric()"
   ]
  },
  {
   "cell_type": "code",
   "execution_count": 51,
   "metadata": {},
   "outputs": [
    {
     "data": {
      "text/plain": [
       "False"
      ]
     },
     "execution_count": 51,
     "metadata": {},
     "output_type": "execute_result"
    }
   ],
   "source": [
    "\"0.5\".isnumeric()"
   ]
  },
  {
   "cell_type": "markdown",
   "metadata": {},
   "source": [
    "### Execute `else`"
   ]
  },
  {
   "cell_type": "code",
   "execution_count": 67,
   "metadata": {},
   "outputs": [
    {
     "name": "stdout",
     "output_type": "stream",
     "text": [
      "Checking `a`\n",
      "+ Item checked.\n",
      "* I've got Forrest Gump syndrome: I always run.\n",
      "\n",
      "Checking `1`\n",
      "+ Item checked.\n",
      "* I've got Forrest Gump syndrome: I always run.\n",
      "\n",
      "Checking `2.0`\n",
      "+ Item checked.\n",
      "* I've got Forrest Gump syndrome: I always run.\n",
      "\n"
     ]
    }
   ],
   "source": [
    "my_list = [\"a\", \"1\", \"2.0\"]\n",
    "\n",
    "for item in my_list:\n",
    "    try:\n",
    "        print(f\"Checking `{item}`\")\n",
    "        item.isnumeric()\n",
    "    except Exception:\n",
    "        print(\"- !!!Something went wrong!!!\")\n",
    "    else:\n",
    "        print(\"+ Item checked.\")\n",
    "    finally:\n",
    "        print(\"* I've got Forrest Gump syndrome: I always run.\\n\")\n"
   ]
  },
  {
   "cell_type": "markdown",
   "metadata": {},
   "source": [
    "### Don't execute the `else`"
   ]
  },
  {
   "cell_type": "code",
   "execution_count": 68,
   "metadata": {},
   "outputs": [
    {
     "name": "stdout",
     "output_type": "stream",
     "text": [
      "Checking `a`\n",
      "+ Item checked.\n",
      "* I've got Forrest Gump syndrome: I always run.\n",
      "\n",
      "Checking `1`\n",
      "+ Item checked.\n",
      "* I've got Forrest Gump syndrome: I always run.\n",
      "\n",
      "Checking `[]`\n",
      "- !!!Something went wrong!!!\n",
      "* I've got Forrest Gump syndrome: I always run.\n",
      "\n",
      "Checking `2.0`\n",
      "+ Item checked.\n",
      "* I've got Forrest Gump syndrome: I always run.\n",
      "\n"
     ]
    }
   ],
   "source": [
    "my_list = [\"a\", \"1\", [], \"2.0\"]\n",
    "\n",
    "for item in my_list:\n",
    "    try:\n",
    "        print(f\"Checking `{item}`\")\n",
    "        item.isnumeric()\n",
    "    except Exception:\n",
    "        print(\"- !!!Something went wrong!!!\")\n",
    "    else:\n",
    "        print(\"+ Item checked.\")\n",
    "    finally:\n",
    "        print(\"* I've got Forrest Gump syndrome: I always run.\\n\")\n"
   ]
  }
 ],
 "metadata": {
  "kernelspec": {
   "display_name": "Python 3",
   "language": "python",
   "name": "python3"
  },
  "language_info": {
   "codemirror_mode": {
    "name": "ipython",
    "version": 3
   },
   "file_extension": ".py",
   "mimetype": "text/x-python",
   "name": "python",
   "nbconvert_exporter": "python",
   "pygments_lexer": "ipython3",
   "version": "3.10.2"
  },
  "orig_nbformat": 4
 },
 "nbformat": 4,
 "nbformat_minor": 2
}
