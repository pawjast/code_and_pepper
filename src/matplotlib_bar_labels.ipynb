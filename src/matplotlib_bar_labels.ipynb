{
 "cells": [
  {
   "attachments": {},
   "cell_type": "markdown",
   "metadata": {},
   "source": [
    "# Hatch fill in `matplotlib` plots"
   ]
  },
  {
   "attachments": {},
   "cell_type": "markdown",
   "metadata": {},
   "source": [
    "## Imports"
   ]
  },
  {
   "cell_type": "code",
   "execution_count": 1,
   "metadata": {},
   "outputs": [],
   "source": [
    "import matplotlib.pyplot as plt"
   ]
  },
  {
   "attachments": {},
   "cell_type": "markdown",
   "metadata": {},
   "source": [
    "## Data"
   ]
  },
  {
   "cell_type": "code",
   "execution_count": 2,
   "metadata": {},
   "outputs": [],
   "source": [
    "x = list(\"ABCD\")\n",
    "y = [3, 5, 1, 4]\n"
   ]
  },
  {
   "attachments": {},
   "cell_type": "markdown",
   "metadata": {},
   "source": [
    "## Bar chart with labels"
   ]
  },
  {
   "cell_type": "code",
   "execution_count": 3,
   "metadata": {},
   "outputs": [
    {
     "data": {
      "image/png": "[encoded data removed]",
      "text/plain": [
       "<Figure size 648x432 with 1 Axes>"
      ]
     },
     "metadata": {},
     "output_type": "display_data"
    }
   ],
   "source": [
    "line_width_val = 2\n",
    "\n",
    "fig, ax = plt.subplots(\n",
    "    figsize=(9,6),\n",
    "    facecolor=\"white\"\n",
    ")\n",
    "fig.suptitle(\n",
    "    \"Bar chart with labels\",\n",
    "    fontsize=20\n",
    ")\n",
    "\n",
    "rects = ax.bar(\n",
    "    x=x,\n",
    "    height=y,\n",
    "    color=\"white\",\n",
    "    edgecolor=\"black\",\n",
    "    linewidth=line_width_val\n",
    ")\n",
    "ax.bar_label(\n",
    "    rects,\n",
    "    padding=5,\n",
    "    fontsize=16,\n",
    "    color=\"#a51d2d\"\n",
    ")\n",
    "\n",
    "# Remove spines\n",
    "for position in [\"left\", \"top\", \"right\"]:\n",
    "    ax.spines[position].set_visible(False)\n",
    "\n",
    "# Remove `y` axis ticks and tick labels\n",
    "ax.tick_params(\n",
    "    axis=\"y\",\n",
    "    which=\"major\",\n",
    "    left=False,\n",
    "    labelleft=False\n",
    ")\n",
    "\n",
    "# Update thickness of `x` axis ticks and bottom spine\n",
    "ax.tick_params(\n",
    "    axis=\"x\",\n",
    "    which=\"major\",\n",
    "    width=line_width_val,\n",
    "    labelsize=16\n",
    ")\n",
    "ax.spines[\"bottom\"].set_linewidth(line_width_val)\n",
    "\n",
    "plt.tight_layout()\n",
    "\n",
    "plt.savefig(\n",
    "    fname=\"plot1.png\",\n",
    "    format=\"png\",\n",
    "    dpi=125\n",
    ");"
   ]
  }
 ],
 "metadata": {
  "kernelspec": {
   "display_name": "Python 3",
   "language": "python",
   "name": "python3"
  },
  "language_info": {
   "codemirror_mode": {
    "name": "ipython",
    "version": 3
   },
   "file_extension": ".py",
   "mimetype": "text/x-python",
   "name": "python",
   "nbconvert_exporter": "python",
   "pygments_lexer": "ipython3",
   "version": "3.10.2"
  },
  "orig_nbformat": 4
 },
 "nbformat": 4,
 "nbformat_minor": 2
}
